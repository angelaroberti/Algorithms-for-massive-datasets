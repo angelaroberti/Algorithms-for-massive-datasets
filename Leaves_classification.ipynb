{
  "cells": [
    {
      "cell_type": "markdown",
      "metadata": {
        "id": "4YeDWSsPLXOM"
      },
      "source": [
        "Project 4: Plant leave recognizer"
      ]
    },
    {
      "cell_type": "code",
      "execution_count": null,
      "metadata": {
        "id": "2wwJZ3tZr7_s"
      },
      "outputs": [],
      "source": [
        "!pip install -q kaggle"
      ]
    },
    {
      "cell_type": "code",
      "execution_count": null,
      "metadata": {
        "id": "BIrpjSiLsCs7"
      },
      "outputs": [],
      "source": [
        "import os\n",
        "os.environ['KAGGLE_USERNAME'] = \"angiierobbb\"\n",
        "os.environ['KAGGLE_KEY'] = \"6f4f1770f4675f63b4ab350b57a6f49c\""
      ]
    },
    {
      "cell_type": "code",
      "execution_count": null,
      "metadata": {
        "colab": {
          "base_uri": "https://localhost:8080/"
        },
        "id": "Ef_IKP9JsEOp",
        "outputId": "001bf25e-8257-42b2-9507-8e952dd0256d"
      },
      "outputs": [
        {
          "output_type": "stream",
          "name": "stdout",
          "text": [
            "Downloading plant-leaves-for-image-classification.zip to /content\n",
            "100% 6.56G/6.56G [04:35<00:00, 19.6MB/s]\n",
            "100% 6.56G/6.56G [04:35<00:00, 25.6MB/s]\n"
          ]
        }
      ],
      "source": [
        "#import dataset from kaggle \n",
        "!kaggle datasets download -d csafrit2/plant-leaves-for-image-classification"
      ]
    },
    {
      "cell_type": "code",
      "execution_count": null,
      "metadata": {
        "id": "kYwz9KrGsIXH"
      },
      "outputs": [],
      "source": [
        "#unzip the dataset\n",
        "!unzip -q /content/plant-leaves-for-image-classification.zip"
      ]
    },
    {
      "cell_type": "code",
      "execution_count": null,
      "metadata": {
        "id": "PngyUKPBsIzW"
      },
      "outputs": [],
      "source": [
        "import shutil"
      ]
    },
    {
      "cell_type": "code",
      "execution_count": null,
      "metadata": {
        "id": "uAqQyiH1sKg9"
      },
      "outputs": [],
      "source": [
        "# delete diseased folders \n",
        "list_diseased = [\"/content/Plants_2/test/Alstonia Scholaris diseased (P2a)\",\"/content/Plants_2/test/Arjun diseased (P1a)\",\"/content/Plants_2/test/Bael diseased (P4b)\",\"/content/Plants_2/test/Chinar diseased (P11b)\",\"/content/Plants_2/test/Gauva diseased (P3b)\",\"/content/Plants_2/test/Jamun diseased (P5b)\",\"/content/Plants_2/test/Jatropha diseased (P6b)\",\"/content/Plants_2/test/Lemon diseased (P10b)\",\"/content/Plants_2/test/Mango diseased (P0b)\",\"/content/Plants_2/test/Pomegranate diseased (P9b)\",\"/content/Plants_2/test/Pongamia Pinnata diseased (P7b)\",\"/content/Plants_2/train/Alstonia Scholaris diseased (P2a)\",\"/content/Plants_2/train/Arjun diseased (P1a)\",\"/content/Plants_2/train/Bael diseased (P4b)\",\"/content/Plants_2/train/Chinar diseased (P11b)\",\"/content/Plants_2/train/Gauva diseased (P3b)\",\"/content/Plants_2/train/Jamun diseased (P5b)\",\"/content/Plants_2/train/Jatropha diseased (P6b)\",\"/content/Plants_2/train/Lemon diseased (P10b)\",\"/content/Plants_2/train/Mango diseased (P0b)\",\"/content/Plants_2/train/Pomegranate diseased (P9b)\",\"/content/Plants_2/train/Pongamia Pinnata diseased (P7b)\",\"/content/Plants_2/valid/Alstonia Scholaris diseased (P2a)\",\"/content/Plants_2/valid/Arjun diseased (P1a)\",\"/content/Plants_2/valid/Bael diseased (P4b)\",\"/content/Plants_2/valid/Chinar diseased (P11b)\",\"/content/Plants_2/valid/Gauva diseased (P3b)\",\"/content/Plants_2/valid/Jamun diseased (P5b)\",\"/content/Plants_2/valid/Jatropha diseased (P6b)\",\"/content/Plants_2/valid/Lemon diseased (P10b)\",\"/content/Plants_2/valid/Mango diseased (P0b)\",\"/content/Plants_2/valid/Pomegranate diseased (P9b)\",\"/content/Plants_2/valid/Pongamia Pinnata diseased (P7b)\"]"
      ]
    },
    {
      "cell_type": "code",
      "execution_count": null,
      "metadata": {
        "id": "9S1B8jVdsS1P"
      },
      "outputs": [],
      "source": [
        "for directory in list_diseased : \n",
        "  shutil.rmtree (directory)"
      ]
    },
    {
      "cell_type": "code",
      "execution_count": null,
      "metadata": {
        "id": "ZArrzLZtsWGU"
      },
      "outputs": [],
      "source": [
        "import tensorflow as tf \n",
        "from tensorflow import keras \n",
        "from keras.preprocessing.image import ImageDataGenerator"
      ]
    },
    {
      "cell_type": "code",
      "execution_count": null,
      "metadata": {
        "id": "gVZSNUaTsZMI"
      },
      "outputs": [],
      "source": [
        "INPUT_SHAPE = (128,128) #inpute shape of images \n",
        "BATCH_SIZE = 32  #define batch size for training data \n",
        "SEED = 123\n",
        "RESCALE  = 1.0/255 #rescale the pixel values of the images "
      ]
    },
    {
      "cell_type": "code",
      "execution_count": null,
      "metadata": {
        "id": "5v22wbnGsbhO"
      },
      "outputs": [],
      "source": [
        "#create Image Data Generator objects \n",
        "datagenA = ImageDataGenerator(\n",
        "    rescale=RESCALE, \n",
        "    width_shift_range=0.1,\n",
        "    height_shift_range=0.1,\n",
        "    horizontal_flip=True)\n",
        "\n",
        "datagenB = ImageDataGenerator(rescale=RESCALE)"
      ]
    },
    {
      "cell_type": "code",
      "execution_count": null,
      "metadata": {
        "colab": {
          "base_uri": "https://localhost:8080/"
        },
        "id": "MAkwGv4ssy7J",
        "outputId": "1721e227-d1d0-47a7-993f-832e1ff90ed3"
      },
      "outputs": [
        {
          "output_type": "stream",
          "name": "stdout",
          "text": [
            "Found 2163 images belonging to 11 classes.\n"
          ]
        }
      ],
      "source": [
        "#flow from directory\n",
        "train_generator = datagenA.flow_from_directory(\n",
        "    directory=r\"/content/Plants_2/train\",\n",
        "    target_size= INPUT_SHAPE,\n",
        "    color_mode=\"rgb\",\n",
        "    batch_size=BATCH_SIZE,\n",
        "    class_mode=\"categorical\",\n",
        "    shuffle=True,\n",
        "    seed=SEED\n",
        ")"
      ]
    },
    {
      "cell_type": "code",
      "execution_count": null,
      "metadata": {
        "colab": {
          "base_uri": "https://localhost:8080/"
        },
        "id": "LqkT2zGOs2It",
        "outputId": "ac96fa16-4726-4482-d1c1-288db8922bd7"
      },
      "outputs": [
        {
          "output_type": "stream",
          "name": "stdout",
          "text": [
            "Found 55 images belonging to 11 classes.\n"
          ]
        }
      ],
      "source": [
        "valid_generator = datagenA.flow_from_directory(\n",
        "    directory=r\"/content/Plants_2/valid\",\n",
        "    target_size=INPUT_SHAPE,\n",
        "    color_mode=\"rgb\",\n",
        "    batch_size= BATCH_SIZE,\n",
        "    class_mode=\"categorical\",\n",
        "    shuffle=True,\n",
        "    seed=SEED\n",
        ")"
      ]
    },
    {
      "cell_type": "code",
      "execution_count": null,
      "metadata": {
        "colab": {
          "base_uri": "https://localhost:8080/"
        },
        "id": "3H8rINMys46r",
        "outputId": "44d3fdf2-55c3-4754-bdc6-03bc798129fc"
      },
      "outputs": [
        {
          "output_type": "stream",
          "name": "stdout",
          "text": [
            "Found 55 images belonging to 11 classes.\n"
          ]
        }
      ],
      "source": [
        "test_generator = datagenB.flow_from_directory(\n",
        "    directory=r\"/content/Plants_2/test\",\n",
        "    target_size= INPUT_SHAPE,\n",
        "    color_mode=\"rgb\",\n",
        "    batch_size=BATCH_SIZE, \n",
        "    class_mode=\"categorical\",\n",
        "    shuffle=False,\n",
        "    seed=SEED\n",
        ")"
      ]
    },
    {
      "cell_type": "code",
      "execution_count": null,
      "metadata": {
        "id": "gwvdA08zwnOG"
      },
      "outputs": [],
      "source": [
        "#import necessary layers and models from Tenserflow Keras\n",
        "from tensorflow.keras import layers\n",
        "from tensorflow.keras.models import Sequential \n",
        "from tensorflow.keras.layers import Dense, Activation, Conv2D, MaxPooling2D, Flatten, Dropout "
      ]
    },
    {
      "cell_type": "code",
      "execution_count": null,
      "metadata": {
        "id": "qEZP5Cxi1eUD"
      },
      "outputs": [],
      "source": [
        "from keras.callbacks import ModelCheckpoint, EarlyStopping\n",
        "\n",
        "filepath = 'weights_epoch_{epoch:02d}.h5' #specify file path pattern for saving weights \n",
        "#create a ModelCheckpoint callback to save weights during training \n",
        "checkpoint = ModelCheckpoint(filepath, save_weights_only=True, verbose=1)\n",
        "\n",
        "#Early Stop callback to stop trainin gearly based on validation loss if it does not imporve for 5 epochs, starting from epoch 10\n",
        "earlystopping = EarlyStopping(monitor = 'val_loss', patience = 5, verbose = 1, \n",
        "                              restore_best_weights = False, start_from_epoch=10) "
      ]
    },
    {
      "cell_type": "code",
      "execution_count": null,
      "metadata": {
        "id": "7-hNsV2e1Hd7"
      },
      "outputs": [],
      "source": [
        "def make_model (params):\n",
        "  #hyperparameters\n",
        "  dropout_hyper = params.Float(\"dropout\", min_value = 0.0, max_value = 0.3, step= 0.1)\n",
        "  filters_hyper= params.Choice(\"filters\", values =[32,64,128])\n",
        "  dense_hyper = params.Choice(\"units\", values = [32,64])\n",
        "  #model construction\n",
        "  model_leaves=Sequential()\n",
        "\n",
        "  #Convolutionla layers\n",
        "  model_leaves.add(Conv2D(filters= filters_hyper, kernel_size=(3,3),input_shape = (128,128,3)))\n",
        "  model_leaves.add(Activation(activation=\"relu\"))\n",
        "  model_leaves.add(MaxPooling2D(pool_size=(2,2)))\n",
        "  model_leaves.add(Dropout(dropout_hyper))\n",
        "\n",
        "  model_leaves.add(Conv2D(filters=filters_hyper, kernel_size=(3,3)))\n",
        "  model_leaves.add(Activation(activation=\"relu\"))\n",
        "  model_leaves.add(MaxPooling2D(pool_size=(2,2))) \n",
        "  model_leaves.add(Dropout(dropout_hyper))\n",
        "\n",
        "  model_leaves.add(Conv2D(filters=filters_hyper, kernel_size=(3,3)))\n",
        "  model_leaves.add(Activation(activation=\"relu\"))\n",
        "  model_leaves.add(MaxPooling2D(pool_size=(2,2))) \n",
        "  model_leaves.add(Dropout(dropout_hyper))\n",
        "\n",
        "  #flatten and dense layer\n",
        "  model_leaves.add(Flatten())\n",
        "  model_leaves.add(Dense(dense_hyper)) \n",
        "  model_leaves.add(Activation(\"relu\"))\n",
        "  model_leaves.add(Dropout(dropout_hyper))\n",
        "\n",
        "  #output layer\n",
        "  model_leaves.add(Dense(11))\n",
        "  model_leaves.add(Activation(\"softmax\")) \n",
        "\n",
        "  #model.compile\n",
        "  model_leaves.compile(optimizer=tf.keras.optimizers.Adam(),\n",
        "              loss=tf.keras.losses.CategoricalCrossentropy(),\n",
        "              metrics= [\"accuracy\"])\n",
        "  return model_leaves #returning the constructed model\n"
      ]
    },
    {
      "cell_type": "code",
      "source": [
        "!pip install keras-tuner"
      ],
      "metadata": {
        "colab": {
          "base_uri": "https://localhost:8080/"
        },
        "id": "dik1HhvFWYHh",
        "outputId": "a3f87407-8ecd-4c92-916e-280772bf74ce"
      },
      "execution_count": null,
      "outputs": [
        {
          "output_type": "stream",
          "name": "stdout",
          "text": [
            "Looking in indexes: https://pypi.org/simple, https://us-python.pkg.dev/colab-wheels/public/simple/\n",
            "Collecting keras-tuner\n",
            "  Downloading keras_tuner-1.3.5-py3-none-any.whl (176 kB)\n",
            "\u001b[2K     \u001b[90m━━━━━━━━━━━━━━━━━━━━━━━━━━━━━━━━━━━━━━\u001b[0m \u001b[32m176.1/176.1 kB\u001b[0m \u001b[31m11.3 MB/s\u001b[0m eta \u001b[36m0:00:00\u001b[0m\n",
            "\u001b[?25hRequirement already satisfied: packaging in /usr/local/lib/python3.10/dist-packages (from keras-tuner) (23.1)\n",
            "Requirement already satisfied: requests in /usr/local/lib/python3.10/dist-packages (from keras-tuner) (2.27.1)\n",
            "Collecting kt-legacy (from keras-tuner)\n",
            "  Downloading kt_legacy-1.0.5-py3-none-any.whl (9.6 kB)\n",
            "Requirement already satisfied: urllib3<1.27,>=1.21.1 in /usr/local/lib/python3.10/dist-packages (from requests->keras-tuner) (1.26.15)\n",
            "Requirement already satisfied: certifi>=2017.4.17 in /usr/local/lib/python3.10/dist-packages (from requests->keras-tuner) (2022.12.7)\n",
            "Requirement already satisfied: charset-normalizer~=2.0.0 in /usr/local/lib/python3.10/dist-packages (from requests->keras-tuner) (2.0.12)\n",
            "Requirement already satisfied: idna<4,>=2.5 in /usr/local/lib/python3.10/dist-packages (from requests->keras-tuner) (3.4)\n",
            "Installing collected packages: kt-legacy, keras-tuner\n",
            "Successfully installed keras-tuner-1.3.5 kt-legacy-1.0.5\n"
          ]
        }
      ]
    },
    {
      "cell_type": "code",
      "source": [
        "import keras_tuner as kt"
      ],
      "metadata": {
        "id": "LNihEqFuWrV1"
      },
      "execution_count": null,
      "outputs": []
    },
    {
      "cell_type": "code",
      "execution_count": null,
      "metadata": {
        "id": "OqvZ8w7_zS18",
        "colab": {
          "base_uri": "https://localhost:8080/"
        },
        "outputId": "2d5dc1a3-f2c5-4ee6-b15a-b1cd9d4f6b33"
      },
      "outputs": [
        {
          "output_type": "stream",
          "name": "stdout",
          "text": [
            "Trial 3 Complete [00h 36m 46s]\n",
            "val_accuracy: 0.6909090876579285\n",
            "\n",
            "Best val_accuracy So Far: 0.6909090876579285\n",
            "Total elapsed time: 01h 51m 54s\n"
          ]
        }
      ],
      "source": [
        "# create a Random Search tuner to search for the optimal hyperparamters \n",
        "tuner=kt.RandomSearch(make_model, objective=\"val_accuracy\", max_trials=3, directory=\"grid_search\")\n",
        "\n",
        "#perform the hyperparameter search, training the model for 3 epochs\n",
        "tuner.search(train_generator, validation_data = valid_generator, epochs=3)"
      ]
    },
    {
      "cell_type": "code",
      "source": [
        "#get the best hyperparameters from the tuner and extract them \n",
        "best_parameters= tuner.get_best_hyperparameters()[0]\n",
        "best_parameters.get_config()[\"values\"]"
      ],
      "metadata": {
        "colab": {
          "base_uri": "https://localhost:8080/"
        },
        "id": "8sEiJi3DWSrn",
        "outputId": "1c137227-90c8-4bc0-e4da-2eff2e5caf33"
      },
      "execution_count": null,
      "outputs": [
        {
          "output_type": "execute_result",
          "data": {
            "text/plain": [
              "{'dropout': 0.1, 'filters': 128, 'units': 64}"
            ]
          },
          "metadata": {},
          "execution_count": 37
        }
      ]
    },
    {
      "cell_type": "code",
      "source": [
        "#build the model using the best hyperparameters found by the tuner \n",
        "model_leaves= tuner.hypermodel.build(best_parameters)"
      ],
      "metadata": {
        "id": "raxVnsCYcCsF"
      },
      "execution_count": null,
      "outputs": []
    },
    {
      "cell_type": "code",
      "source": [
        "#train the model \n",
        "mod_leaves = model_leaves.fit_generator(generator = train_generator,validation_data = valid_generator,epochs=5, callbacks=[checkpoint,earlystopping])"
      ],
      "metadata": {
        "colab": {
          "base_uri": "https://localhost:8080/"
        },
        "id": "nLk78wG7yccF",
        "outputId": "276dd036-d066-4129-963e-eb1fa529ad8a"
      },
      "execution_count": null,
      "outputs": [
        {
          "output_type": "stream",
          "name": "stderr",
          "text": [
            "<ipython-input-39-a5520efb22bd>:1: UserWarning: `Model.fit_generator` is deprecated and will be removed in a future version. Please use `Model.fit`, which supports generators.\n",
            "  mod_leaves = model_leaves.fit_generator(generator = train_generator,validation_data = valid_generator,epochs=5, callbacks=[checkpoint,earlystopping])\n"
          ]
        },
        {
          "output_type": "stream",
          "name": "stdout",
          "text": [
            "Epoch 1/5\n",
            "68/68 [==============================] - ETA: 0s - loss: 2.0960 - accuracy: 0.2455 \n",
            "Epoch 1: saving model to weights_epoch_01.h5\n",
            "68/68 [==============================] - 750s 11s/step - loss: 2.0960 - accuracy: 0.2455 - val_loss: 1.6829 - val_accuracy: 0.3273\n",
            "Epoch 2/5\n",
            "68/68 [==============================] - ETA: 0s - loss: 1.4119 - accuracy: 0.5012 \n",
            "Epoch 2: saving model to weights_epoch_02.h5\n",
            "68/68 [==============================] - 758s 11s/step - loss: 1.4119 - accuracy: 0.5012 - val_loss: 1.1348 - val_accuracy: 0.5636\n",
            "Epoch 3/5\n",
            "68/68 [==============================] - ETA: 0s - loss: 1.1218 - accuracy: 0.6158 \n",
            "Epoch 3: saving model to weights_epoch_03.h5\n",
            "68/68 [==============================] - 724s 11s/step - loss: 1.1218 - accuracy: 0.6158 - val_loss: 0.9528 - val_accuracy: 0.6364\n",
            "Epoch 4/5\n",
            "68/68 [==============================] - ETA: 0s - loss: 0.9186 - accuracy: 0.6963 \n",
            "Epoch 4: saving model to weights_epoch_04.h5\n",
            "68/68 [==============================] - 725s 11s/step - loss: 0.9186 - accuracy: 0.6963 - val_loss: 1.1532 - val_accuracy: 0.4909\n",
            "Epoch 5/5\n",
            "68/68 [==============================] - ETA: 0s - loss: 0.8835 - accuracy: 0.7060 \n",
            "Epoch 5: saving model to weights_epoch_05.h5\n",
            "68/68 [==============================] - 794s 12s/step - loss: 0.8835 - accuracy: 0.7060 - val_loss: 0.7673 - val_accuracy: 0.6909\n"
          ]
        }
      ]
    },
    {
      "cell_type": "code",
      "source": [
        "# plotting accuracy and loss graphs \n",
        "plt.figure(figsize=(12,4))\n",
        "plt.subplot(1,2,1)\n",
        "plt.plot(mod_leaves.history['accuracy'], label= 'training_accuracy')\n",
        "plt.plot(mod_leaves.history['val_accuracy'], label='validation_accuracy')\n",
        "plt.xlabel('Epochs')\n",
        "plt.ylabel('Accuracy')\n",
        "plt.title('Training and Validation accuracy')\n",
        "plt.legend(loc='lower right')\n",
        "\n",
        "plt.subplot(1,2,2)\n",
        "plt.plot(mod_leaves.history['loss'], label='training_loss')\n",
        "plt.plot(mod_leaves.history['val_loss'], label = 'validation_loss')\n",
        "plt.xlabel('Epoch')\n",
        "plt.ylabel('Loss')\n",
        "plt.legend(loc='upper left')\n",
        "plt.title('Training and Validation loss')"
      ],
      "metadata": {
        "colab": {
          "base_uri": "https://localhost:8080/",
          "height": 428
        },
        "id": "FklkzRqf_MMq",
        "outputId": "b2c05c9d-6c4d-467b-98c9-2404255e8d77"
      },
      "execution_count": null,
      "outputs": [
        {
          "output_type": "execute_result",
          "data": {
            "text/plain": [
              "Text(0.5, 1.0, 'Training and Validation loss')"
            ]
          },
          "metadata": {},
          "execution_count": 42
        },
        {
          "output_type": "display_data",
          "data": {
            "text/plain": [
              "<Figure size 1200x400 with 2 Axes>"
            ],
            "image/png": "[encoded data removed]"
          },
          "metadata": {}
        }
      ]
    },
    {
      "cell_type": "code",
      "source": [
        "#save the model with the neame \"model_classification\"\n",
        "model_leaves.save(\"model_classification\")\n",
        "\n",
        "#create a zip archive of the saved model\n",
        "!zip -r -q /content/model_classification.zip /content/model_classification"
      ],
      "metadata": {
        "colab": {
          "base_uri": "https://localhost:8080/"
        },
        "id": "yE_7ibv3CQlf",
        "outputId": "47fac1ab-1501-479b-b60e-f9f187daecb8"
      },
      "execution_count": null,
      "outputs": [
        {
          "output_type": "stream",
          "name": "stderr",
          "text": [
            "WARNING:absl:Found untraced functions such as _jit_compiled_convolution_op, _jit_compiled_convolution_op, _jit_compiled_convolution_op while saving (showing 3 of 3). These functions will not be directly callable after loading.\n"
          ]
        }
      ]
    },
    {
      "cell_type": "code",
      "source": [
        "# load a saved model\n",
        "!unzip -q /content/model_classification.zip -d /\n",
        "model_leaves = tf.keras.models.load_model(\"./model_classification\")"
      ],
      "metadata": {
        "id": "iJaPOpCDCssB"
      },
      "execution_count": null,
      "outputs": []
    },
    {
      "cell_type": "code",
      "source": [
        "#train the model for 15 epochs \n",
        "mod_leaves = model_leaves.fit_generator(generator = train_generator,validation_data = valid_generator,epochs=15, callbacks=[checkpoint,earlystopping])"
      ],
      "metadata": {
        "colab": {
          "base_uri": "https://localhost:8080/"
        },
        "id": "57646J5fIuu5",
        "outputId": "4f4e1444-6124-4bee-e668-7b5c259b23b8"
      },
      "execution_count": null,
      "outputs": [
        {
          "output_type": "stream",
          "name": "stderr",
          "text": [
            "<ipython-input-17-1acbe2686a26>:1: UserWarning: `Model.fit_generator` is deprecated and will be removed in a future version. Please use `Model.fit`, which supports generators.\n",
            "  mod_leaves = model_leaves.fit_generator(generator = train_generator,validation_data = valid_generator,epochs=15, callbacks=[checkpoint,earlystopping])\n"
          ]
        },
        {
          "output_type": "stream",
          "name": "stdout",
          "text": [
            "Epoch 1/15\n",
            "68/68 [==============================] - ETA: 0s - loss: 0.8296 - accuracy: 0.7226 \n",
            "Epoch 1: saving model to weights_epoch_01.h5\n",
            "68/68 [==============================] - 762s 11s/step - loss: 0.8296 - accuracy: 0.7226 - val_loss: 0.7805 - val_accuracy: 0.6727\n",
            "Epoch 2/15\n",
            "68/68 [==============================] - ETA: 0s - loss: 0.7556 - accuracy: 0.7443\n",
            "Epoch 2: saving model to weights_epoch_02.h5\n",
            "68/68 [==============================] - 681s 10s/step - loss: 0.7556 - accuracy: 0.7443 - val_loss: 0.7075 - val_accuracy: 0.6909\n",
            "Epoch 3/15\n",
            "68/68 [==============================] - ETA: 0s - loss: 0.6736 - accuracy: 0.7702 \n",
            "Epoch 3: saving model to weights_epoch_03.h5\n",
            "68/68 [==============================] - 706s 10s/step - loss: 0.6736 - accuracy: 0.7702 - val_loss: 0.6186 - val_accuracy: 0.7091\n",
            "Epoch 4/15\n",
            "68/68 [==============================] - ETA: 0s - loss: 0.6525 - accuracy: 0.7702\n",
            "Epoch 4: saving model to weights_epoch_04.h5\n",
            "68/68 [==============================] - 690s 10s/step - loss: 0.6525 - accuracy: 0.7702 - val_loss: 0.6467 - val_accuracy: 0.7636\n",
            "Epoch 5/15\n",
            "68/68 [==============================] - ETA: 0s - loss: 0.6893 - accuracy: 0.7651\n",
            "Epoch 5: saving model to weights_epoch_05.h5\n",
            "68/68 [==============================] - 692s 10s/step - loss: 0.6893 - accuracy: 0.7651 - val_loss: 0.5974 - val_accuracy: 0.8000\n",
            "Epoch 6/15\n",
            "68/68 [==============================] - ETA: 0s - loss: 0.5562 - accuracy: 0.8141 \n",
            "Epoch 6: saving model to weights_epoch_06.h5\n",
            "68/68 [==============================] - 700s 10s/step - loss: 0.5562 - accuracy: 0.8141 - val_loss: 0.6365 - val_accuracy: 0.7636\n",
            "Epoch 7/15\n",
            "68/68 [==============================] - ETA: 0s - loss: 0.5638 - accuracy: 0.8132 \n",
            "Epoch 7: saving model to weights_epoch_07.h5\n",
            "68/68 [==============================] - 718s 11s/step - loss: 0.5638 - accuracy: 0.8132 - val_loss: 0.6246 - val_accuracy: 0.7636\n",
            "Epoch 8/15\n",
            "68/68 [==============================] - ETA: 0s - loss: 0.4836 - accuracy: 0.8336 \n",
            "Epoch 8: saving model to weights_epoch_08.h5\n",
            "68/68 [==============================] - 704s 10s/step - loss: 0.4836 - accuracy: 0.8336 - val_loss: 0.5761 - val_accuracy: 0.7636\n",
            "Epoch 9/15\n",
            "68/68 [==============================] - ETA: 0s - loss: 0.4876 - accuracy: 0.8294\n",
            "Epoch 9: saving model to weights_epoch_09.h5\n",
            "68/68 [==============================] - 683s 10s/step - loss: 0.4876 - accuracy: 0.8294 - val_loss: 0.4695 - val_accuracy: 0.8000\n",
            "Epoch 10/15\n",
            "68/68 [==============================] - ETA: 0s - loss: 0.4544 - accuracy: 0.8410\n",
            "Epoch 10: saving model to weights_epoch_10.h5\n",
            "68/68 [==============================] - 689s 10s/step - loss: 0.4544 - accuracy: 0.8410 - val_loss: 0.5883 - val_accuracy: 0.7636\n",
            "Epoch 11/15\n",
            "68/68 [==============================] - ETA: 0s - loss: 0.4513 - accuracy: 0.8451\n",
            "Epoch 11: saving model to weights_epoch_11.h5\n",
            "68/68 [==============================] - 679s 10s/step - loss: 0.4513 - accuracy: 0.8451 - val_loss: 0.4967 - val_accuracy: 0.7818\n",
            "Epoch 12/15\n",
            "68/68 [==============================] - ETA: 0s - loss: 0.4129 - accuracy: 0.8632\n",
            "Epoch 12: saving model to weights_epoch_12.h5\n",
            "68/68 [==============================] - 694s 10s/step - loss: 0.4129 - accuracy: 0.8632 - val_loss: 0.5041 - val_accuracy: 0.7818\n",
            "Epoch 13/15\n",
            "68/68 [==============================] - ETA: 0s - loss: 0.3924 - accuracy: 0.8655 \n",
            "Epoch 13: saving model to weights_epoch_13.h5\n",
            "68/68 [==============================] - 719s 11s/step - loss: 0.3924 - accuracy: 0.8655 - val_loss: 0.5143 - val_accuracy: 0.7636\n",
            "Epoch 14/15\n",
            "68/68 [==============================] - ETA: 0s - loss: 0.3426 - accuracy: 0.8816 \n",
            "Epoch 14: saving model to weights_epoch_14.h5\n",
            "68/68 [==============================] - 734s 11s/step - loss: 0.3426 - accuracy: 0.8816 - val_loss: 0.3578 - val_accuracy: 0.8364\n",
            "Epoch 15/15\n",
            "68/68 [==============================] - ETA: 0s - loss: 0.3390 - accuracy: 0.8853 \n",
            "Epoch 15: saving model to weights_epoch_15.h5\n",
            "68/68 [==============================] - 711s 10s/step - loss: 0.3390 - accuracy: 0.8853 - val_loss: 0.3894 - val_accuracy: 0.8727\n"
          ]
        }
      ]
    },
    {
      "cell_type": "code",
      "source": [
        "import matplotlib.pyplot as plt "
      ],
      "metadata": {
        "id": "cEQqoWGZ_G8z"
      },
      "execution_count": null,
      "outputs": []
    },
    {
      "cell_type": "code",
      "source": [
        "# plotting accuracy and loss graphs \n",
        "plt.figure(figsize=(12,4))\n",
        "plt.subplot(1,2,1)\n",
        "plt.plot(mod_leaves.history['accuracy'], label= 'training_accuracy')\n",
        "plt.plot(mod_leaves.history['val_accuracy'], label='validation_accuracy')\n",
        "plt.xlabel('Epochs')\n",
        "plt.ylabel('Accuracy')\n",
        "plt.title('Training and Validation accuracy')\n",
        "plt.legend(loc='lower right')\n",
        "\n",
        "plt.subplot(1,2,2)\n",
        "plt.plot(mod_leaves.history['loss'], label='training_loss')\n",
        "plt.plot(mod_leaves.history['val_loss'], label = 'validation_loss')\n",
        "plt.xlabel('Epoch')\n",
        "plt.ylabel('Loss')\n",
        "plt.legend(loc='upper left')\n",
        "plt.title('Training and Validation loss')"
      ],
      "metadata": {
        "colab": {
          "base_uri": "https://localhost:8080/",
          "height": 354
        },
        "id": "IeHTMo0fyL6y",
        "outputId": "6e5dafd6-a8ac-4690-8d68-d61511bc1353"
      },
      "execution_count": null,
      "outputs": [
        {
          "output_type": "execute_result",
          "data": {
            "text/plain": [
              "Text(0.5, 1.0, 'Training and Validation loss')"
            ]
          },
          "metadata": {},
          "execution_count": 19
        },
        {
          "output_type": "display_data",
          "data": {
            "text/plain": [
              "<Figure size 1200x400 with 2 Axes>"
            ],
            "image/png": "[encoded data removed]"
          },
          "metadata": {}
        }
      ]
    },
    {
      "cell_type": "code",
      "source": [
        "#model.evaluate on the test folder \n",
        "model_leaves.evaluate(test_generator) "
      ],
      "metadata": {
        "colab": {
          "base_uri": "https://localhost:8080/"
        },
        "id": "XETErV3kyYMd",
        "outputId": "41c27216-5da3-4974-cda2-30fa43dc3b4f"
      },
      "execution_count": null,
      "outputs": [
        {
          "output_type": "stream",
          "name": "stdout",
          "text": [
            "2/2 [==============================] - 18s 8s/step - loss: 0.2710 - accuracy: 0.9091\n"
          ]
        },
        {
          "output_type": "execute_result",
          "data": {
            "text/plain": [
              "[0.27104225754737854, 0.9090909361839294]"
            ]
          },
          "metadata": {},
          "execution_count": 20
        }
      ]
    },
    {
      "cell_type": "code",
      "source": [
        "#model.predict \n",
        "predictions = model_leaves.predict_generator(test_generator)"
      ],
      "metadata": {
        "colab": {
          "base_uri": "https://localhost:8080/"
        },
        "id": "u0jnw2JP_clT",
        "outputId": "9b6798b7-abdd-4f3d-aa65-fff726915444"
      },
      "execution_count": null,
      "outputs": [
        {
          "output_type": "stream",
          "name": "stderr",
          "text": [
            "<ipython-input-21-dc15218a2af3>:2: UserWarning: `Model.predict_generator` is deprecated and will be removed in a future version. Please use `Model.predict`, which supports generators.\n",
            "  predictions = model_leaves.predict_generator(test_generator)\n"
          ]
        }
      ]
    },
    {
      "cell_type": "code",
      "source": [
        "import numpy as np "
      ],
      "metadata": {
        "id": "0eQgcyrQ_286"
      },
      "execution_count": null,
      "outputs": []
    },
    {
      "cell_type": "code",
      "source": [
        "predicted_classes = np.argmax(predictions, axis=1)"
      ],
      "metadata": {
        "id": "uXL_KYO_AG9q"
      },
      "execution_count": null,
      "outputs": []
    },
    {
      "cell_type": "code",
      "source": [
        "predicted_classes"
      ],
      "metadata": {
        "colab": {
          "base_uri": "https://localhost:8080/"
        },
        "id": "62xYzaPNASZL",
        "outputId": "49f0fb46-30ec-4edd-da34-78605b74a1d3"
      },
      "execution_count": null,
      "outputs": [
        {
          "output_type": "execute_result",
          "data": {
            "text/plain": [
              "array([ 0,  0,  0,  0,  0,  1,  1,  1,  1,  1,  2,  2,  2,  2,  2,  3,  5,\n",
              "        3,  3,  3,  4,  4,  4,  4,  4,  5,  5,  5,  4,  5,  6,  6,  0,  6,\n",
              "        5,  7,  7,  7,  7,  7,  8,  8,  8,  8,  8,  7,  9,  9,  9,  9, 10,\n",
              "       10, 10, 10, 10])"
            ]
          },
          "metadata": {},
          "execution_count": 24
        }
      ]
    },
    {
      "cell_type": "code",
      "source": [
        "true_classes=test_generator.classes"
      ],
      "metadata": {
        "id": "HnTJs55OAcYf"
      },
      "execution_count": null,
      "outputs": []
    },
    {
      "cell_type": "code",
      "source": [
        "true_classes"
      ],
      "metadata": {
        "colab": {
          "base_uri": "https://localhost:8080/"
        },
        "id": "rObEw4F7AdRu",
        "outputId": "c6894e07-7126-40ff-d0ff-b910ce4d4244"
      },
      "execution_count": null,
      "outputs": [
        {
          "output_type": "execute_result",
          "data": {
            "text/plain": [
              "array([ 0,  0,  0,  0,  0,  1,  1,  1,  1,  1,  2,  2,  2,  2,  2,  3,  3,\n",
              "        3,  3,  3,  4,  4,  4,  4,  4,  5,  5,  5,  5,  5,  6,  6,  6,  6,\n",
              "        6,  7,  7,  7,  7,  7,  8,  8,  8,  8,  8,  9,  9,  9,  9,  9, 10,\n",
              "       10, 10, 10, 10], dtype=int32)"
            ]
          },
          "metadata": {},
          "execution_count": 26
        }
      ]
    },
    {
      "cell_type": "code",
      "source": [
        "test_generator.class_indices"
      ],
      "metadata": {
        "colab": {
          "base_uri": "https://localhost:8080/"
        },
        "id": "JDAFEel8Aj6X",
        "outputId": "d6e79634-9364-4cf8-9e79-e87d39f9786e"
      },
      "execution_count": null,
      "outputs": [
        {
          "output_type": "execute_result",
          "data": {
            "text/plain": [
              "{'Alstonia Scholaris healthy (P2b)': 0,\n",
              " 'Arjun healthy (P1b)': 1,\n",
              " 'Basil healthy (P8)': 2,\n",
              " 'Chinar healthy (P11a)': 3,\n",
              " 'Gauva healthy (P3a)': 4,\n",
              " 'Jamun healthy (P5a)': 5,\n",
              " 'Jatropha healthy (P6a)': 6,\n",
              " 'Lemon healthy (P10a)': 7,\n",
              " 'Mango healthy (P0a)': 8,\n",
              " 'Pomegranate healthy (P9a)': 9,\n",
              " 'Pongamia Pinnata healthy (P7a)': 10}"
            ]
          },
          "metadata": {},
          "execution_count": 27
        }
      ]
    },
    {
      "cell_type": "code",
      "source": [
        "class_labels = list(test_generator.class_indices.keys())"
      ],
      "metadata": {
        "id": "66hpi7JLApcI"
      },
      "execution_count": null,
      "outputs": []
    },
    {
      "cell_type": "code",
      "source": [
        "from sklearn.metrics import classification_report, confusion_matrix"
      ],
      "metadata": {
        "id": "lFbpy9HDAvA0"
      },
      "execution_count": null,
      "outputs": []
    },
    {
      "cell_type": "code",
      "source": [
        "#precision,recall and f1-score metrics\n",
        "report = classification_report(true_classes, predicted_classes,target_names=class_labels)\n",
        "print(report)"
      ],
      "metadata": {
        "colab": {
          "base_uri": "https://localhost:8080/"
        },
        "id": "YONXKhZNEVmL",
        "outputId": "f9de882b-366d-49c0-f56e-1c6e1e035109"
      },
      "execution_count": null,
      "outputs": [
        {
          "output_type": "stream",
          "name": "stdout",
          "text": [
            "                                  precision    recall  f1-score   support\n",
            "\n",
            "Alstonia Scholaris healthy (P2b)       0.83      1.00      0.91         5\n",
            "             Arjun healthy (P1b)       1.00      1.00      1.00         5\n",
            "              Basil healthy (P8)       1.00      1.00      1.00         5\n",
            "           Chinar healthy (P11a)       1.00      0.80      0.89         5\n",
            "             Gauva healthy (P3a)       0.83      1.00      0.91         5\n",
            "             Jamun healthy (P5a)       0.67      0.80      0.73         5\n",
            "          Jatropha healthy (P6a)       1.00      0.60      0.75         5\n",
            "            Lemon healthy (P10a)       0.83      1.00      0.91         5\n",
            "             Mango healthy (P0a)       1.00      1.00      1.00         5\n",
            "       Pomegranate healthy (P9a)       1.00      0.80      0.89         5\n",
            "  Pongamia Pinnata healthy (P7a)       1.00      1.00      1.00         5\n",
            "\n",
            "                        accuracy                           0.91        55\n",
            "                       macro avg       0.92      0.91      0.91        55\n",
            "                    weighted avg       0.92      0.91      0.91        55\n",
            "\n"
          ]
        }
      ]
    },
    {
      "cell_type": "code",
      "source": [
        "true_classes.shape"
      ],
      "metadata": {
        "colab": {
          "base_uri": "https://localhost:8080/"
        },
        "id": "iQBuE4HbEneI",
        "outputId": "dff537e6-e1d2-4fe2-a1db-b95e0667bb04"
      },
      "execution_count": null,
      "outputs": [
        {
          "output_type": "execute_result",
          "data": {
            "text/plain": [
              "(55,)"
            ]
          },
          "metadata": {},
          "execution_count": 31
        }
      ]
    },
    {
      "cell_type": "code",
      "source": [
        "predicted_classes.shape"
      ],
      "metadata": {
        "colab": {
          "base_uri": "https://localhost:8080/"
        },
        "id": "SToLR3MZEsWm",
        "outputId": "15114eb1-31c7-49a2-a3ec-ecb7d839ba7a"
      },
      "execution_count": null,
      "outputs": [
        {
          "output_type": "execute_result",
          "data": {
            "text/plain": [
              "(55,)"
            ]
          },
          "metadata": {},
          "execution_count": 32
        }
      ]
    },
    {
      "cell_type": "code",
      "source": [
        "import seaborn as sns"
      ],
      "metadata": {
        "id": "eBxxedR_Ev8T"
      },
      "execution_count": null,
      "outputs": []
    },
    {
      "cell_type": "code",
      "source": [
        "#confusion matrix plot using heatmap\n",
        "hm = sns.heatmap(confusion_matrix(true_classes,predicted_classes), annot=True)\n",
        "hm.set_xlabel('Predictions')\n",
        "hm.set_ylabel('True Label')"
      ],
      "metadata": {
        "colab": {
          "base_uri": "https://localhost:8080/",
          "height": 473
        },
        "id": "AwwyWHQCEZse",
        "outputId": "00fced52-2bb7-4514-9686-00dbae05ceb4"
      },
      "execution_count": null,
      "outputs": [
        {
          "output_type": "execute_result",
          "data": {
            "text/plain": [
              "Text(50.722222222222214, 0.5, 'True Label')"
            ]
          },
          "metadata": {},
          "execution_count": 34
        },
        {
          "output_type": "display_data",
          "data": {
            "text/plain": [
              "<Figure size 640x480 with 2 Axes>"
            ],
            "image/png": "[encoded data removed]"
          },
          "metadata": {}
        }
      ]
    }
  ],
  "metadata": {
    "accelerator": "GPU",
    "colab": {
      "provenance": []
    },
    "kernelspec": {
      "display_name": "Python 3",
      "name": "python3"
    },
    "language_info": {
      "name": "python"
    }
  },
  "nbformat": 4,
  "nbformat_minor": 0
}