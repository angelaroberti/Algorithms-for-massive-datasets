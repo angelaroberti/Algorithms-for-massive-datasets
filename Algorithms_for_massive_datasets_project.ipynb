{
  "nbformat": 4,
  "nbformat_minor": 0,
  "metadata": {
    "colab": {
      "provenance": [],
      "gpuType": "T4"
    },
    "kernelspec": {
      "name": "python3",
      "display_name": "Python 3"
    },
    "language_info": {
      "name": "python"
    },
    "accelerator": "GPU"
  },
  "cells": [
    {
      "cell_type": "markdown",
      "source": [
        "Project 4: Plant leave recognizer"
      ],
      "metadata": {
        "id": "4YeDWSsPLXOM"
      }
    },
    {
      "cell_type": "code",
      "execution_count": null,
      "metadata": {
        "id": "2wwJZ3tZr7_s"
      },
      "outputs": [],
      "source": [
        "!pip install -q kaggle"
      ]
    },
    {
      "cell_type": "code",
      "source": [
        "import os\n",
        "os.environ['KAGGLE_USERNAME'] = \"angiierobbb\"\n",
        "os.environ['KAGGLE_KEY'] = \"6f4f1770f4675f63b4ab350b57a6f49c\""
      ],
      "metadata": {
        "id": "BIrpjSiLsCs7"
      },
      "execution_count": null,
      "outputs": []
    },
    {
      "cell_type": "code",
      "source": [
        "#import dataset from kaggle \n",
        "!kaggle datasets download -d csafrit2/plant-leaves-for-image-classification"
      ],
      "metadata": {
        "colab": {
          "base_uri": "https://localhost:8080/"
        },
        "id": "Ef_IKP9JsEOp",
        "outputId": "832b94fa-e87b-446e-8371-173a1585c823"
      },
      "execution_count": null,
      "outputs": [
        {
          "output_type": "stream",
          "name": "stdout",
          "text": [
            "Downloading plant-leaves-for-image-classification.zip to /content\n",
            "100% 6.55G/6.56G [01:29<00:00, 80.7MB/s]\n",
            "100% 6.56G/6.56G [01:29<00:00, 78.6MB/s]\n"
          ]
        }
      ]
    },
    {
      "cell_type": "code",
      "source": [
        "#unzip the dataset\n",
        "!unzip -q /content/plant-leaves-for-image-classification.zip"
      ],
      "metadata": {
        "id": "kYwz9KrGsIXH"
      },
      "execution_count": null,
      "outputs": []
    },
    {
      "cell_type": "code",
      "source": [
        "import shutil"
      ],
      "metadata": {
        "id": "PngyUKPBsIzW"
      },
      "execution_count": null,
      "outputs": []
    },
    {
      "cell_type": "code",
      "source": [
        "# delete diseased folders \n",
        "list_diseased = [\"/content/Plants_2/test/Alstonia Scholaris diseased (P2a)\",\"/content/Plants_2/test/Arjun diseased (P1a)\",\"/content/Plants_2/test/Bael diseased (P4b)\",\"/content/Plants_2/test/Chinar diseased (P11b)\",\"/content/Plants_2/test/Gauva diseased (P3b)\",\"/content/Plants_2/test/Jamun diseased (P5b)\",\"/content/Plants_2/test/Jatropha diseased (P6b)\",\"/content/Plants_2/test/Lemon diseased (P10b)\",\"/content/Plants_2/test/Mango diseased (P0b)\",\"/content/Plants_2/test/Pomegranate diseased (P9b)\",\"/content/Plants_2/test/Pongamia Pinnata diseased (P7b)\",\"/content/Plants_2/train/Alstonia Scholaris diseased (P2a)\",\"/content/Plants_2/train/Arjun diseased (P1a)\",\"/content/Plants_2/train/Bael diseased (P4b)\",\"/content/Plants_2/train/Chinar diseased (P11b)\",\"/content/Plants_2/train/Gauva diseased (P3b)\",\"/content/Plants_2/train/Jamun diseased (P5b)\",\"/content/Plants_2/train/Jatropha diseased (P6b)\",\"/content/Plants_2/train/Lemon diseased (P10b)\",\"/content/Plants_2/train/Mango diseased (P0b)\",\"/content/Plants_2/train/Pomegranate diseased (P9b)\",\"/content/Plants_2/train/Pongamia Pinnata diseased (P7b)\",\"/content/Plants_2/valid/Alstonia Scholaris diseased (P2a)\",\"/content/Plants_2/valid/Arjun diseased (P1a)\",\"/content/Plants_2/valid/Bael diseased (P4b)\",\"/content/Plants_2/valid/Chinar diseased (P11b)\",\"/content/Plants_2/valid/Gauva diseased (P3b)\",\"/content/Plants_2/valid/Jamun diseased (P5b)\",\"/content/Plants_2/valid/Jatropha diseased (P6b)\",\"/content/Plants_2/valid/Lemon diseased (P10b)\",\"/content/Plants_2/valid/Mango diseased (P0b)\",\"/content/Plants_2/valid/Pomegranate diseased (P9b)\",\"/content/Plants_2/valid/Pongamia Pinnata diseased (P7b)\"]"
      ],
      "metadata": {
        "id": "uAqQyiH1sKg9"
      },
      "execution_count": null,
      "outputs": []
    },
    {
      "cell_type": "code",
      "source": [
        "for directory in list_diseased : \n",
        "  shutil.rmtree (directory)"
      ],
      "metadata": {
        "id": "9S1B8jVdsS1P"
      },
      "execution_count": null,
      "outputs": []
    },
    {
      "cell_type": "code",
      "source": [
        "import tensorflow as tf \n",
        "from tensorflow import keras \n",
        "from keras.preprocessing.image import ImageDataGenerator"
      ],
      "metadata": {
        "id": "ZArrzLZtsWGU"
      },
      "execution_count": null,
      "outputs": []
    },
    {
      "cell_type": "code",
      "source": [
        "INPUT_SHAPE = (128,128) \n",
        "BATCH_SIZE = 32\n",
        "SEED = 123\n",
        "RESCALE  = 1.0/255"
      ],
      "metadata": {
        "id": "gVZSNUaTsZMI"
      },
      "execution_count": null,
      "outputs": []
    },
    {
      "cell_type": "code",
      "source": [
        "#data generator \n",
        "datagenA = ImageDataGenerator(\n",
        "    rescale=RESCALE, \n",
        "    width_shift_range=0.1,\n",
        "    height_shift_range=0.1,\n",
        "    horizontal_flip=True)\n",
        "\n",
        "datagenB = ImageDataGenerator(rescale=RESCALE)"
      ],
      "metadata": {
        "id": "5v22wbnGsbhO"
      },
      "execution_count": null,
      "outputs": []
    },
    {
      "cell_type": "code",
      "source": [
        "#flow from directory\n",
        "train_generator = datagenA.flow_from_directory(\n",
        "    directory=r\"/content/Plants_2/train\",\n",
        "    target_size= INPUT_SHAPE,\n",
        "    color_mode=\"rgb\",\n",
        "    batch_size=BATCH_SIZE,\n",
        "    class_mode=\"categorical\",\n",
        "    shuffle=True,\n",
        "    seed=SEED\n",
        ")"
      ],
      "metadata": {
        "colab": {
          "base_uri": "https://localhost:8080/"
        },
        "id": "MAkwGv4ssy7J",
        "outputId": "6c7c03e4-e4d8-4cc5-d097-d25a177022a8"
      },
      "execution_count": null,
      "outputs": [
        {
          "output_type": "stream",
          "name": "stdout",
          "text": [
            "Found 2163 images belonging to 11 classes.\n"
          ]
        }
      ]
    },
    {
      "cell_type": "code",
      "source": [
        "valid_generator = datagenA.flow_from_directory(\n",
        "    directory=r\"/content/Plants_2/valid\",\n",
        "    target_size=INPUT_SHAPE,\n",
        "    color_mode=\"rgb\",\n",
        "    batch_size= BATCH_SIZE,\n",
        "    class_mode=\"categorical\",\n",
        "    shuffle=True,\n",
        "    seed=SEED\n",
        ")"
      ],
      "metadata": {
        "colab": {
          "base_uri": "https://localhost:8080/"
        },
        "id": "LqkT2zGOs2It",
        "outputId": "283e5061-f673-4b36-aadc-2556e39d18f6"
      },
      "execution_count": null,
      "outputs": [
        {
          "output_type": "stream",
          "name": "stdout",
          "text": [
            "Found 55 images belonging to 11 classes.\n"
          ]
        }
      ]
    },
    {
      "cell_type": "code",
      "source": [
        "test_generator = datagenB.flow_from_directory(\n",
        "    directory=r\"/content/Plants_2/test\",\n",
        "    target_size= INPUT_SHAPE,\n",
        "    color_mode=\"rgb\",\n",
        "    batch_size=BATCH_SIZE, \n",
        "    class_mode=\"categorical\",\n",
        "    shuffle=False,\n",
        "    seed=SEED\n",
        ")"
      ],
      "metadata": {
        "colab": {
          "base_uri": "https://localhost:8080/"
        },
        "id": "3H8rINMys46r",
        "outputId": "7b70e7c3-c158-4449-8020-533fff42b7b1"
      },
      "execution_count": null,
      "outputs": [
        {
          "output_type": "stream",
          "name": "stdout",
          "text": [
            "Found 55 images belonging to 11 classes.\n"
          ]
        }
      ]
    },
    {
      "cell_type": "code",
      "source": [
        "from tensorflow.keras import layers\n",
        "from tensorflow.keras.models import Sequential \n",
        "from tensorflow.keras.layers import Dense, Activation, Conv2D, MaxPooling2D, Flatten, Dropout "
      ],
      "metadata": {
        "id": "gwvdA08zwnOG"
      },
      "execution_count": null,
      "outputs": []
    },
    {
      "cell_type": "code",
      "source": [
        "from keras.callbacks import ModelCheckpoint, EarlyStopping\n",
        "\n",
        "filepath = 'weights_epoch_{epoch:02d}.h5'\n",
        "checkpoint = ModelCheckpoint(filepath, save_weights_only=True, verbose=1)\n",
        "\n",
        "earlystopping = EarlyStopping(monitor = 'val_loss', patience = 5, verbose = 1, \n",
        "                              restore_best_weights = False, start_from_epoch=15) "
      ],
      "metadata": {
        "id": "qEZP5Cxi1eUD"
      },
      "execution_count": null,
      "outputs": []
    },
    {
      "cell_type": "code",
      "source": [
        "#model for classification \n",
        "model_leaves=Sequential()\n",
        "\n",
        "model_leaves.add(Conv2D(filters=32, kernel_size=(3,3),input_shape = (128,128,3)))\n",
        "model_leaves.add(Activation(activation=\"relu\"))\n",
        "model_leaves.add(MaxPooling2D(pool_size=(2,2)))\n",
        "model_leaves.add(Dropout(0.2))\n",
        "\n",
        "model_leaves.add(Conv2D(filters=64, kernel_size=(3,3)))\n",
        "model_leaves.add(Activation(activation=\"relu\"))\n",
        "model_leaves.add(MaxPooling2D(pool_size=(2,2))) \n",
        "model_leaves.add(Dropout(0.2))\n",
        "\n",
        "model_leaves.add(Conv2D(filters=128, kernel_size=(3,3)))\n",
        "model_leaves.add(Activation(activation=\"relu\"))\n",
        "model_leaves.add(MaxPooling2D(pool_size=(2,2))) \n",
        "model_leaves.add(Dropout(0.2))\n",
        "\n",
        "model_leaves.add(Conv2D(filters=256, kernel_size=(3,3)))\n",
        "model_leaves.add(Activation(activation=\"relu\"))\n",
        "model_leaves.add(MaxPooling2D(pool_size=(2,2))) \n",
        "model_leaves.add(Dropout(0.2))\n",
        "\n",
        "model_leaves.add(Flatten())\n",
        "model_leaves.add(Dense(64)) \n",
        "model_leaves.add(Activation(\"relu\"))\n",
        "model_leaves.add(Dropout(0.4))\n",
        "\n",
        "model_leaves.add(Dense(11))\n",
        "model_leaves.add(Activation(\"softmax\")) "
      ],
      "metadata": {
        "id": "rjUVY3giyoq9"
      },
      "execution_count": null,
      "outputs": []
    },
    {
      "cell_type": "code",
      "source": [
        "model_leaves.compile(optimizer=tf.keras.optimizers.Adam(),\n",
        "              loss=tf.keras.losses.CategoricalCrossentropy(),\n",
        "              metrics= [\"accuracy\"])\n",
        "\n",
        "model_leaves.summary()"
      ],
      "metadata": {
        "colab": {
          "base_uri": "https://localhost:8080/"
        },
        "id": "MUfYlgv_zAfZ",
        "outputId": "bed9d1f7-d066-431c-bf0f-f0d82969aee9"
      },
      "execution_count": null,
      "outputs": [
        {
          "output_type": "stream",
          "name": "stdout",
          "text": [
            "Model: \"sequential\"\n",
            "_________________________________________________________________\n",
            " Layer (type)                Output Shape              Param #   \n",
            "=================================================================\n",
            " conv2d (Conv2D)             (None, 126, 126, 32)      896       \n",
            "                                                                 \n",
            " activation (Activation)     (None, 126, 126, 32)      0         \n",
            "                                                                 \n",
            " max_pooling2d (MaxPooling2D  (None, 63, 63, 32)       0         \n",
            " )                                                               \n",
            "                                                                 \n",
            " dropout (Dropout)           (None, 63, 63, 32)        0         \n",
            "                                                                 \n",
            " conv2d_1 (Conv2D)           (None, 61, 61, 64)        18496     \n",
            "                                                                 \n",
            " activation_1 (Activation)   (None, 61, 61, 64)        0         \n",
            "                                                                 \n",
            " max_pooling2d_1 (MaxPooling  (None, 30, 30, 64)       0         \n",
            " 2D)                                                             \n",
            "                                                                 \n",
            " dropout_1 (Dropout)         (None, 30, 30, 64)        0         \n",
            "                                                                 \n",
            " conv2d_2 (Conv2D)           (None, 28, 28, 128)       73856     \n",
            "                                                                 \n",
            " activation_2 (Activation)   (None, 28, 28, 128)       0         \n",
            "                                                                 \n",
            " max_pooling2d_2 (MaxPooling  (None, 14, 14, 128)      0         \n",
            " 2D)                                                             \n",
            "                                                                 \n",
            " dropout_2 (Dropout)         (None, 14, 14, 128)       0         \n",
            "                                                                 \n",
            " conv2d_3 (Conv2D)           (None, 12, 12, 256)       295168    \n",
            "                                                                 \n",
            " activation_3 (Activation)   (None, 12, 12, 256)       0         \n",
            "                                                                 \n",
            " max_pooling2d_3 (MaxPooling  (None, 6, 6, 256)        0         \n",
            " 2D)                                                             \n",
            "                                                                 \n",
            " dropout_3 (Dropout)         (None, 6, 6, 256)         0         \n",
            "                                                                 \n",
            " flatten (Flatten)           (None, 9216)              0         \n",
            "                                                                 \n",
            " dense (Dense)               (None, 64)                589888    \n",
            "                                                                 \n",
            " activation_4 (Activation)   (None, 64)                0         \n",
            "                                                                 \n",
            " dropout_4 (Dropout)         (None, 64)                0         \n",
            "                                                                 \n",
            " dense_1 (Dense)             (None, 11)                715       \n",
            "                                                                 \n",
            " activation_5 (Activation)   (None, 11)                0         \n",
            "                                                                 \n",
            "=================================================================\n",
            "Total params: 979,019\n",
            "Trainable params: 979,019\n",
            "Non-trainable params: 0\n",
            "_________________________________________________________________\n"
          ]
        }
      ]
    },
    {
      "cell_type": "code",
      "source": [
        "#model.fit\n",
        "mod_leaves = model_leaves.fit_generator(generator = train_generator,validation_data = valid_generator,epochs=25, callbacks=[checkpoint,earlystopping])"
      ],
      "metadata": {
        "colab": {
          "base_uri": "https://localhost:8080/"
        },
        "id": "ntd8Oh6w-xhf",
        "outputId": "1bb3761d-5405-406e-97f4-e7195bcb0c4c"
      },
      "execution_count": null,
      "outputs": [
        {
          "output_type": "stream",
          "name": "stderr",
          "text": [
            "<ipython-input-18-ae740a3c4536>:1: UserWarning: `Model.fit_generator` is deprecated and will be removed in a future version. Please use `Model.fit`, which supports generators.\n",
            "  mod_leaves = model_leaves.fit_generator(generator = train_generator,validation_data = valid_generator,epochs=25, callbacks=[checkpoint,earlystopping])\n"
          ]
        },
        {
          "output_type": "stream",
          "name": "stdout",
          "text": [
            "Epoch 1/25\n",
            "68/68 [==============================] - ETA: 0s - loss: 2.2668 - accuracy: 0.1706 \n",
            "Epoch 1: saving model to weights_epoch_01.h5\n",
            "68/68 [==============================] - 741s 11s/step - loss: 2.2668 - accuracy: 0.1706 - val_loss: 2.3417 - val_accuracy: 0.1273\n",
            "Epoch 2/25\n",
            "68/68 [==============================] - ETA: 0s - loss: 1.9227 - accuracy: 0.3019\n",
            "Epoch 2: saving model to weights_epoch_02.h5\n",
            "68/68 [==============================] - 689s 10s/step - loss: 1.9227 - accuracy: 0.3019 - val_loss: 2.0159 - val_accuracy: 0.2000\n",
            "Epoch 3/25\n",
            "68/68 [==============================] - ETA: 0s - loss: 1.6781 - accuracy: 0.3944\n",
            "Epoch 3: saving model to weights_epoch_03.h5\n",
            "68/68 [==============================] - 680s 10s/step - loss: 1.6781 - accuracy: 0.3944 - val_loss: 1.5772 - val_accuracy: 0.5091\n",
            "Epoch 4/25\n",
            "68/68 [==============================] - ETA: 0s - loss: 1.5762 - accuracy: 0.4267\n",
            "Epoch 4: saving model to weights_epoch_04.h5\n",
            "68/68 [==============================] - 679s 10s/step - loss: 1.5762 - accuracy: 0.4267 - val_loss: 1.6474 - val_accuracy: 0.4364\n",
            "Epoch 5/25\n",
            "68/68 [==============================] - ETA: 0s - loss: 1.4347 - accuracy: 0.4854\n",
            "Epoch 5: saving model to weights_epoch_05.h5\n",
            "68/68 [==============================] - 683s 10s/step - loss: 1.4347 - accuracy: 0.4854 - val_loss: 1.2515 - val_accuracy: 0.5636\n",
            "Epoch 6/25\n",
            "68/68 [==============================] - ETA: 0s - loss: 1.2836 - accuracy: 0.5566\n",
            "Epoch 6: saving model to weights_epoch_06.h5\n",
            "68/68 [==============================] - 690s 10s/step - loss: 1.2836 - accuracy: 0.5566 - val_loss: 1.3552 - val_accuracy: 0.4182\n",
            "Epoch 7/25\n",
            "68/68 [==============================] - ETA: 0s - loss: 1.2278 - accuracy: 0.5742\n",
            "Epoch 7: saving model to weights_epoch_07.h5\n",
            "68/68 [==============================] - 674s 10s/step - loss: 1.2278 - accuracy: 0.5742 - val_loss: 1.1630 - val_accuracy: 0.5636\n",
            "Epoch 8/25\n",
            "68/68 [==============================] - ETA: 0s - loss: 1.1032 - accuracy: 0.6204\n",
            "Epoch 8: saving model to weights_epoch_08.h5\n",
            "68/68 [==============================] - 676s 10s/step - loss: 1.1032 - accuracy: 0.6204 - val_loss: 1.1539 - val_accuracy: 0.6182\n",
            "Epoch 9/25\n",
            "68/68 [==============================] - ETA: 0s - loss: 1.1312 - accuracy: 0.6121\n",
            "Epoch 9: saving model to weights_epoch_09.h5\n",
            "68/68 [==============================] - 689s 10s/step - loss: 1.1312 - accuracy: 0.6121 - val_loss: 0.9070 - val_accuracy: 0.7091\n",
            "Epoch 10/25\n",
            "68/68 [==============================] - ETA: 0s - loss: 1.0047 - accuracy: 0.6570\n",
            "Epoch 10: saving model to weights_epoch_10.h5\n",
            "68/68 [==============================] - 682s 10s/step - loss: 1.0047 - accuracy: 0.6570 - val_loss: 0.7383 - val_accuracy: 0.7455\n",
            "Epoch 11/25\n",
            "68/68 [==============================] - ETA: 0s - loss: 1.0151 - accuracy: 0.6537\n",
            "Epoch 11: saving model to weights_epoch_11.h5\n",
            "68/68 [==============================] - 671s 10s/step - loss: 1.0151 - accuracy: 0.6537 - val_loss: 0.7504 - val_accuracy: 0.7455\n",
            "Epoch 12/25\n",
            "68/68 [==============================] - ETA: 0s - loss: 0.9707 - accuracy: 0.6694 \n",
            "Epoch 12: saving model to weights_epoch_12.h5\n",
            "68/68 [==============================] - 700s 10s/step - loss: 0.9707 - accuracy: 0.6694 - val_loss: 0.7078 - val_accuracy: 0.7455\n",
            "Epoch 13/25\n",
            "68/68 [==============================] - ETA: 0s - loss: 0.8377 - accuracy: 0.7050\n",
            "Epoch 13: saving model to weights_epoch_13.h5\n",
            "68/68 [==============================] - 678s 10s/step - loss: 0.8377 - accuracy: 0.7050 - val_loss: 0.8164 - val_accuracy: 0.7091\n",
            "Epoch 14/25\n",
            "68/68 [==============================] - ETA: 0s - loss: 0.8519 - accuracy: 0.7083\n",
            "Epoch 14: saving model to weights_epoch_14.h5\n",
            "68/68 [==============================] - 673s 10s/step - loss: 0.8519 - accuracy: 0.7083 - val_loss: 0.6090 - val_accuracy: 0.8000\n",
            "Epoch 15/25\n",
            "68/68 [==============================] - ETA: 0s - loss: 0.7884 - accuracy: 0.7309\n",
            "Epoch 15: saving model to weights_epoch_15.h5\n",
            "68/68 [==============================] - 692s 10s/step - loss: 0.7884 - accuracy: 0.7309 - val_loss: 0.5241 - val_accuracy: 0.7818\n",
            "Epoch 16/25\n",
            "68/68 [==============================] - ETA: 0s - loss: 0.7951 - accuracy: 0.7305 \n",
            "Epoch 16: saving model to weights_epoch_16.h5\n",
            "68/68 [==============================] - 699s 10s/step - loss: 0.7951 - accuracy: 0.7305 - val_loss: 0.6732 - val_accuracy: 0.7273\n",
            "Epoch 17/25\n",
            "68/68 [==============================] - ETA: 0s - loss: 0.7261 - accuracy: 0.7601\n",
            "Epoch 17: saving model to weights_epoch_17.h5\n",
            "68/68 [==============================] - 690s 10s/step - loss: 0.7261 - accuracy: 0.7601 - val_loss: 0.4768 - val_accuracy: 0.8364\n",
            "Epoch 18/25\n",
            "68/68 [==============================] - ETA: 0s - loss: 0.6591 - accuracy: 0.7758\n",
            "Epoch 18: saving model to weights_epoch_18.h5\n",
            "68/68 [==============================] - 693s 10s/step - loss: 0.6591 - accuracy: 0.7758 - val_loss: 0.4156 - val_accuracy: 0.8909\n",
            "Epoch 19/25\n",
            "68/68 [==============================] - ETA: 0s - loss: 0.6902 - accuracy: 0.7628 \n",
            "Epoch 19: saving model to weights_epoch_19.h5\n",
            "68/68 [==============================] - 698s 10s/step - loss: 0.6902 - accuracy: 0.7628 - val_loss: 0.4459 - val_accuracy: 0.8545\n",
            "Epoch 20/25\n",
            "68/68 [==============================] - ETA: 0s - loss: 0.6157 - accuracy: 0.7781 \n",
            "Epoch 20: saving model to weights_epoch_20.h5\n",
            "68/68 [==============================] - 700s 10s/step - loss: 0.6157 - accuracy: 0.7781 - val_loss: 0.5115 - val_accuracy: 0.8182\n",
            "Epoch 21/25\n",
            "68/68 [==============================] - ETA: 0s - loss: 0.6168 - accuracy: 0.7961\n",
            "Epoch 21: saving model to weights_epoch_21.h5\n",
            "68/68 [==============================] - 687s 10s/step - loss: 0.6168 - accuracy: 0.7961 - val_loss: 0.3543 - val_accuracy: 0.8545\n",
            "Epoch 22/25\n",
            "68/68 [==============================] - ETA: 0s - loss: 0.6713 - accuracy: 0.7702\n",
            "Epoch 22: saving model to weights_epoch_22.h5\n",
            "68/68 [==============================] - 673s 10s/step - loss: 0.6713 - accuracy: 0.7702 - val_loss: 0.4168 - val_accuracy: 0.8545\n",
            "Epoch 23/25\n",
            "68/68 [==============================] - ETA: 0s - loss: 0.6873 - accuracy: 0.7559\n",
            "Epoch 23: saving model to weights_epoch_23.h5\n",
            "68/68 [==============================] - 646s 9s/step - loss: 0.6873 - accuracy: 0.7559 - val_loss: 0.3757 - val_accuracy: 0.8909\n",
            "Epoch 24/25\n",
            "68/68 [==============================] - ETA: 0s - loss: 0.6019 - accuracy: 0.7957\n",
            "Epoch 24: saving model to weights_epoch_24.h5\n",
            "68/68 [==============================] - 697s 10s/step - loss: 0.6019 - accuracy: 0.7957 - val_loss: 0.4767 - val_accuracy: 0.8545\n",
            "Epoch 25/25\n",
            "68/68 [==============================] - ETA: 0s - loss: 0.5522 - accuracy: 0.8114\n",
            "Epoch 25: saving model to weights_epoch_25.h5\n",
            "68/68 [==============================] - 690s 10s/step - loss: 0.5522 - accuracy: 0.8114 - val_loss: 0.2626 - val_accuracy: 0.9636\n"
          ]
        }
      ]
    },
    {
      "cell_type": "code",
      "source": [
        "import matplotlib.pyplot as plt "
      ],
      "metadata": {
        "id": "M5r8jn7UDgqC"
      },
      "execution_count": null,
      "outputs": []
    },
    {
      "cell_type": "code",
      "source": [
        "# plotting accuracy and loss graphs \n",
        "plt.figure(figsize=(12,4))\n",
        "plt.subplot(1,2,1)\n",
        "plt.plot(mod_leaves.history['accuracy'], label= 'training_accuracy')\n",
        "plt.plot(mod_leaves.history['val_accuracy'], label='validation_accuracy')\n",
        "plt.xlabel('Epochs')\n",
        "plt.ylabel('Accuracy')\n",
        "plt.title('Training and Validation accuracy')\n",
        "plt.legend(loc='lower right')\n",
        "\n",
        "plt.subplot(1,2,2)\n",
        "plt.plot(mod_leaves.history['loss'], label='training_loss')\n",
        "plt.plot(mod_leaves.history['val_loss'], label = 'validation_loss')\n",
        "plt.xlabel('Epoch')\n",
        "plt.ylabel('Loss')\n",
        "plt.legend(loc='upper left')\n",
        "plt.title('Training and Validation loss')"
      ],
      "metadata": {
        "id": "gOzuh-cY5XXX",
        "colab": {
          "base_uri": "https://localhost:8080/",
          "height": 355
        },
        "outputId": "3a3b29f0-670a-458a-f82b-6ffc4b2b445e"
      },
      "execution_count": null,
      "outputs": [
        {
          "output_type": "execute_result",
          "data": {
            "text/plain": [
              "Text(0.5, 1.0, 'Training and Validation loss')"
            ]
          },
          "metadata": {},
          "execution_count": 21
        },
        {
          "output_type": "display_data",
          "data": {
            "text/plain": [
              "<Figure size 1200x400 with 2 Axes>"
            ],
            "image/png": "[encoded data removed]"
          },
          "metadata": {}
        }
      ]
    },
    {
      "cell_type": "code",
      "source": [
        "#model.evaluate\n",
        "model_leaves.evaluate(test_generator) "
      ],
      "metadata": {
        "id": "CPgt8Pb-5dec",
        "colab": {
          "base_uri": "https://localhost:8080/"
        },
        "outputId": "4ca4e8c1-1434-49c4-a636-74499a658492"
      },
      "execution_count": null,
      "outputs": [
        {
          "output_type": "stream",
          "name": "stdout",
          "text": [
            "2/2 [==============================] - 18s 8s/step - loss: 0.3207 - accuracy: 0.9273\n"
          ]
        },
        {
          "output_type": "execute_result",
          "data": {
            "text/plain": [
              "[0.3207297623157501, 0.9272727370262146]"
            ]
          },
          "metadata": {},
          "execution_count": 22
        }
      ]
    },
    {
      "cell_type": "code",
      "source": [
        "#model.predict \n",
        "predictions = model_leaves.predict_generator(test_generator)"
      ],
      "metadata": {
        "colab": {
          "base_uri": "https://localhost:8080/"
        },
        "id": "MN-CpdZmFALO",
        "outputId": "99ffc6af-5e70-4580-d3c6-cf375553599a"
      },
      "execution_count": null,
      "outputs": [
        {
          "output_type": "stream",
          "name": "stderr",
          "text": [
            "<ipython-input-24-029055db6eb4>:1: UserWarning: `Model.predict_generator` is deprecated and will be removed in a future version. Please use `Model.predict`, which supports generators.\n",
            "  predictions = model_leaves.predict_generator(test_generator)\n"
          ]
        }
      ]
    },
    {
      "cell_type": "code",
      "source": [
        "import numpy as np "
      ],
      "metadata": {
        "id": "K6MGiMkHFaST"
      },
      "execution_count": null,
      "outputs": []
    },
    {
      "cell_type": "code",
      "source": [
        "predicted_classes = np.argmax(predictions, axis=1)"
      ],
      "metadata": {
        "id": "I-zOi76bFcvW"
      },
      "execution_count": null,
      "outputs": []
    },
    {
      "cell_type": "code",
      "source": [
        "predicted_classes"
      ],
      "metadata": {
        "colab": {
          "base_uri": "https://localhost:8080/"
        },
        "id": "b_P4LIRmFmmO",
        "outputId": "2824b17b-3f35-4523-c856-26bb3a7707de"
      },
      "execution_count": null,
      "outputs": [
        {
          "output_type": "execute_result",
          "data": {
            "text/plain": [
              "array([ 0,  0,  0,  0,  0,  1,  1,  1,  1,  1,  2,  2,  2,  2,  2,  3,  3,\n",
              "        3,  3,  3,  4,  4,  4,  4,  4,  5,  5,  5,  5,  5,  6,  5,  5,  6,\n",
              "        3,  7,  7,  7,  7,  7,  8,  8,  8,  8,  8,  9,  9,  9,  9,  8, 10,\n",
              "       10, 10, 10, 10])"
            ]
          },
          "metadata": {},
          "execution_count": 27
        }
      ]
    },
    {
      "cell_type": "code",
      "source": [
        "true_classes=test_generator.classes"
      ],
      "metadata": {
        "id": "AT6BxJesFp6P"
      },
      "execution_count": null,
      "outputs": []
    },
    {
      "cell_type": "code",
      "source": [
        "true_classes"
      ],
      "metadata": {
        "colab": {
          "base_uri": "https://localhost:8080/"
        },
        "id": "Y8p49rLeFv67",
        "outputId": "e4f8c9f6-506b-4029-c5aa-cfa7b2c0020d"
      },
      "execution_count": null,
      "outputs": [
        {
          "output_type": "execute_result",
          "data": {
            "text/plain": [
              "array([ 0,  0,  0,  0,  0,  1,  1,  1,  1,  1,  2,  2,  2,  2,  2,  3,  3,\n",
              "        3,  3,  3,  4,  4,  4,  4,  4,  5,  5,  5,  5,  5,  6,  6,  6,  6,\n",
              "        6,  7,  7,  7,  7,  7,  8,  8,  8,  8,  8,  9,  9,  9,  9,  9, 10,\n",
              "       10, 10, 10, 10], dtype=int32)"
            ]
          },
          "metadata": {},
          "execution_count": 29
        }
      ]
    },
    {
      "cell_type": "code",
      "source": [
        "test_generator.class_indices"
      ],
      "metadata": {
        "colab": {
          "base_uri": "https://localhost:8080/"
        },
        "id": "DIoCDuQmFyIq",
        "outputId": "bf75941b-898a-4f2d-e777-ffdf4325e674"
      },
      "execution_count": null,
      "outputs": [
        {
          "output_type": "execute_result",
          "data": {
            "text/plain": [
              "{'Alstonia Scholaris healthy (P2b)': 0,\n",
              " 'Arjun healthy (P1b)': 1,\n",
              " 'Basil healthy (P8)': 2,\n",
              " 'Chinar healthy (P11a)': 3,\n",
              " 'Gauva healthy (P3a)': 4,\n",
              " 'Jamun healthy (P5a)': 5,\n",
              " 'Jatropha healthy (P6a)': 6,\n",
              " 'Lemon healthy (P10a)': 7,\n",
              " 'Mango healthy (P0a)': 8,\n",
              " 'Pomegranate healthy (P9a)': 9,\n",
              " 'Pongamia Pinnata healthy (P7a)': 10}"
            ]
          },
          "metadata": {},
          "execution_count": 30
        }
      ]
    },
    {
      "cell_type": "code",
      "source": [
        "class_labels = list(test_generator.class_indices.keys())"
      ],
      "metadata": {
        "id": "iqvEJPPaF5EG"
      },
      "execution_count": null,
      "outputs": []
    },
    {
      "cell_type": "code",
      "source": [
        "from sklearn.metrics import classification_report, confusion_matrix"
      ],
      "metadata": {
        "id": "D6oAFRUDGDSV"
      },
      "execution_count": null,
      "outputs": []
    },
    {
      "cell_type": "code",
      "source": [
        "#precision,recall and f1-score metrics\n",
        "report = classification_report(true_classes, predicted_classes,target_names=class_labels)\n",
        "print(report)"
      ],
      "metadata": {
        "colab": {
          "base_uri": "https://localhost:8080/"
        },
        "id": "SBqQkiQSGM1m",
        "outputId": "9eafacf4-f62e-4f2b-bc4a-fab78572540f"
      },
      "execution_count": null,
      "outputs": [
        {
          "output_type": "stream",
          "name": "stdout",
          "text": [
            "                                  precision    recall  f1-score   support\n",
            "\n",
            "Alstonia Scholaris healthy (P2b)       1.00      1.00      1.00         5\n",
            "             Arjun healthy (P1b)       1.00      1.00      1.00         5\n",
            "              Basil healthy (P8)       1.00      1.00      1.00         5\n",
            "           Chinar healthy (P11a)       0.83      1.00      0.91         5\n",
            "             Gauva healthy (P3a)       1.00      1.00      1.00         5\n",
            "             Jamun healthy (P5a)       0.71      1.00      0.83         5\n",
            "          Jatropha healthy (P6a)       1.00      0.40      0.57         5\n",
            "            Lemon healthy (P10a)       1.00      1.00      1.00         5\n",
            "             Mango healthy (P0a)       0.83      1.00      0.91         5\n",
            "       Pomegranate healthy (P9a)       1.00      0.80      0.89         5\n",
            "  Pongamia Pinnata healthy (P7a)       1.00      1.00      1.00         5\n",
            "\n",
            "                        accuracy                           0.93        55\n",
            "                       macro avg       0.94      0.93      0.92        55\n",
            "                    weighted avg       0.94      0.93      0.92        55\n",
            "\n"
          ]
        }
      ]
    },
    {
      "cell_type": "code",
      "source": [
        "true_classes.shape"
      ],
      "metadata": {
        "colab": {
          "base_uri": "https://localhost:8080/"
        },
        "id": "u59QvHVJGfPa",
        "outputId": "304c7baa-551c-4438-fe58-84be9b7d8e3b"
      },
      "execution_count": null,
      "outputs": [
        {
          "output_type": "execute_result",
          "data": {
            "text/plain": [
              "(55,)"
            ]
          },
          "metadata": {},
          "execution_count": 37
        }
      ]
    },
    {
      "cell_type": "code",
      "source": [
        "predicted_classes.shape"
      ],
      "metadata": {
        "colab": {
          "base_uri": "https://localhost:8080/"
        },
        "id": "NoZ3gcYOGrfL",
        "outputId": "951aa20d-b0d3-4faa-98a5-b335b938d7e0"
      },
      "execution_count": null,
      "outputs": [
        {
          "output_type": "execute_result",
          "data": {
            "text/plain": [
              "(55,)"
            ]
          },
          "metadata": {},
          "execution_count": 38
        }
      ]
    },
    {
      "cell_type": "code",
      "source": [
        "#confusion matrix \n",
        "hm = sns.heatmap(confusion_matrix(true_classes,predicted_classes), annot=True)\n",
        "hm.set_xlabel('Predictions')\n",
        "hm.set_ylabel('True Label')"
      ],
      "metadata": {
        "colab": {
          "base_uri": "https://localhost:8080/",
          "height": 473
        },
        "id": "cLugpKaeIfK1",
        "outputId": "9e7e5cc5-fee5-442f-8478-7c2a4f61bfe8"
      },
      "execution_count": null,
      "outputs": [
        {
          "output_type": "execute_result",
          "data": {
            "text/plain": [
              "Text(50.722222222222214, 0.5, 'True Label')"
            ]
          },
          "metadata": {},
          "execution_count": 49
        },
        {
          "output_type": "display_data",
          "data": {
            "text/plain": [
              "<Figure size 640x480 with 2 Axes>"
            ],
            "image/png": "[encoded data removed]"
          },
          "metadata": {}
        }
      ]
    }
  ]
}